{
 "cells": [
  {
   "cell_type": "markdown",
   "metadata": {},
   "source": [
    "# JSON exercise\n",
    "Using data in file 'data/world_bank_projects.json' and the techniques demonstrated above,\n",
    "    1. Find the 10 countries with most projects,\n",
    "    2. Find the top 10 major project themes (using column 'mjtheme_namecode'),\n",
    "    3. In 2. above you will notice that some entries have only the code and the name is missing. Create a dataframe with the missing names filled in."
   ]
  },
  {
   "cell_type": "code",
   "execution_count": 32,
   "metadata": {},
   "outputs": [
    {
     "name": "stdout",
     "output_type": "stream",
     "text": [
      "Indonesia             19\n",
      "China                 19\n",
      "Vietnam               17\n",
      "India                 16\n",
      "Yemen, Republic of    13\n",
      "Nepal                 12\n",
      "Bangladesh            12\n",
      "Morocco               12\n",
      "Africa                11\n",
      "Mozambique            11\n",
      "Name: countryshortname, dtype: int64\n"
     ]
    }
   ],
   "source": [
    "#Question 1\n",
    "import pandas as pd\n",
    "import json\n",
    "from pandas.io.json import json_normalize\n",
    "json_df = pd.read_json((open('data/world_bank_projects.json')))\n",
    "print(json_df['countryshortname'].value_counts().head(10))"
   ]
  },
  {
   "cell_type": "code",
   "execution_count": 34,
   "metadata": {},
   "outputs": [
    {
     "name": "stdout",
     "output_type": "stream",
     "text": [
      "[{'code': '65', 'name': 'Education for all'}]                                                                                                   13\n",
      "[{'code': '81', 'name': 'Climate change'}]                                                                                                      13\n",
      "[{'code': '30', 'name': 'Other public sector governance'}]                                                                                       9\n",
      "[{'code': '27', 'name': 'Public expenditure, financial management and procurement'}]                                                             9\n",
      "[{'code': '78', 'name': 'Rural services and infrastructure'}]                                                                                    7\n",
      "[{'code': '52', 'name': 'Natural disaster management'}]                                                                                          6\n",
      "[{'code': '91', 'name': 'Global food crisis response'}]                                                                                          5\n",
      "[{'code': '41', 'name': 'Micro, Small and Medium Enterprise support'}]                                                                           5\n",
      "[{'code': '84', 'name': 'Pollution management and environmental health'}, {'code': '82', 'name': 'Environmental policies and institutions'}]     5\n",
      "[{'code': '39', 'name': 'Infrastructure services for private sector development'}]                                                               4\n",
      "Name: theme_namecode, dtype: int64\n"
     ]
    }
   ],
   "source": [
    "#Question 2\n",
    "import pandas as pd\n",
    "import json\n",
    "from pandas.io.json import json_normalize\n",
    "json_df = pd.read_json((open('data/world_bank_projects.json')))\n",
    "print(json_df['theme_namecode'].value_counts().head(10))\n"
   ]
  },
  {
   "cell_type": "code",
   "execution_count": null,
   "metadata": {},
   "outputs": [],
   "source": [
    "#Question 3\n"
   ]
  }
 ],
 "metadata": {
  "kernelspec": {
   "display_name": "Python 3",
   "language": "python",
   "name": "python3"
  },
  "language_info": {
   "codemirror_mode": {
    "name": "ipython",
    "version": 3
   },
   "file_extension": ".py",
   "mimetype": "text/x-python",
   "name": "python",
   "nbconvert_exporter": "python",
   "pygments_lexer": "ipython3",
   "version": "3.7.3"
  }
 },
 "nbformat": 4,
 "nbformat_minor": 1
}
