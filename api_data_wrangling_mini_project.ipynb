{
 "cells": [
  {
   "cell_type": "markdown",
   "metadata": {},
   "source": [
    "This exercise will require you to pull some data from the Qunadl API. Qaundl is currently the most widely used aggregator of financial market data."
   ]
  },
  {
   "cell_type": "markdown",
   "metadata": {},
   "source": [
    "As a first step, you will need to register a free account on the http://www.quandl.com website."
   ]
  },
  {
   "cell_type": "markdown",
   "metadata": {},
   "source": [
    "After you register, you will be provided with a unique API key, that you should store:"
   ]
  },
  {
   "cell_type": "code",
   "execution_count": 2,
   "metadata": {},
   "outputs": [],
   "source": [
    "# Store the API key as a string - according to PEP8, constants are always named in all upper case\n",
    "API_KEY = 'zisUTp7XnzvS8_4ENyth'"
   ]
  },
  {
   "cell_type": "markdown",
   "metadata": {},
   "source": [
    "Qaundl has a large number of data sources, but, unfortunately, most of them require a Premium subscription. Still, there are also a good number of free datasets."
   ]
  },
  {
   "cell_type": "markdown",
   "metadata": {},
   "source": [
    "For this mini project, we will focus on equities data from the Frankfurt Stock Exhange (FSE), which is available for free. We'll try and analyze the stock prices of a company called Carl Zeiss Meditec, which manufactures tools for eye examinations, as well as medical lasers for laser eye surgery: https://www.zeiss.com/meditec/int/home.html. The company is listed under the stock ticker AFX_X."
   ]
  },
  {
   "cell_type": "markdown",
   "metadata": {},
   "source": [
    "You can find the detailed Quandl API instructions here: https://docs.quandl.com/docs/time-series"
   ]
  },
  {
   "cell_type": "markdown",
   "metadata": {},
   "source": [
    "While there is a dedicated Python package for connecting to the Quandl API, we would prefer that you use the *requests* package, which can be easily downloaded using *pip* or *conda*. You can find the documentation for the package here: http://docs.python-requests.org/en/master/ "
   ]
  },
  {
   "cell_type": "markdown",
   "metadata": {},
   "source": [
    "Finally, apart from the *requests* package, you are encouraged to not use any third party Python packages, such as *pandas*, and instead focus on what's available in the Python Standard Library (the *collections* module might come in handy: https://pymotw.com/3/collections/ ).\n",
    "Also, since you won't have access to DataFrames, you are encouraged to us Python's native data structures - preferably dictionaries, though some questions can also be answered using lists.\n",
    "You can read more on these data structures here: https://docs.python.org/3/tutorial/datastructures.html"
   ]
  },
  {
   "cell_type": "markdown",
   "metadata": {},
   "source": [
    "Keep in mind that the JSON responses you will be getting from the API map almost one-to-one to Python's dictionaries. Unfortunately, they can be very nested, so make sure you read up on indexing dictionaries in the documentation provided above."
   ]
  },
  {
   "cell_type": "code",
   "execution_count": 3,
   "metadata": {},
   "outputs": [],
   "source": [
    "# First, import the relevant modules\n",
    "import requests\n",
    "import json\n"
   ]
  },
  {
   "cell_type": "code",
   "execution_count": 4,
   "metadata": {},
   "outputs": [],
   "source": [
    "# Now, call the Quandl API and pull out a small sample of the data (only one day) to get a glimpse\n",
    "# into the JSON structure that will be returned\n",
    "r = requests.get('https://www.quandl.com/api/v3/datasets/FSE/AFX_X.json?api_key=zisUTp7XnzvS8_4ENyth&start_date=2013-11-01&end_date=2013-11-30')"
   ]
  },
  {
   "cell_type": "code",
   "execution_count": 5,
   "metadata": {},
   "outputs": [
    {
     "name": "stdout",
     "output_type": "stream",
     "text": [
      "{'dataset': {'id': 10095370, 'dataset_code': 'AFX_X', 'database_code': 'FSE', 'name': 'Carl Zeiss Meditec (AFX_X)', 'description': 'Stock Prices for Carl Zeiss Meditec (2019-10-01) from the Frankfurt Stock Exchange.<br><br>Trading System: Xetra<br><br>ISIN: DE0005313704', 'refreshed_at': '2019-10-15T22:18:47.452Z', 'newest_available_date': '2019-10-15', 'oldest_available_date': '2000-06-07', 'column_names': ['Date', 'Open', 'High', 'Low', 'Close', 'Change', 'Traded Volume', 'Turnover', 'Last Price of the Day', 'Daily Traded Units', 'Daily Turnover'], 'frequency': 'daily', 'type': 'Time Series', 'premium': False, 'limit': None, 'transform': None, 'column_index': None, 'start_date': '2013-11-01', 'end_date': '2013-11-30', 'data': [['2013-11-29', 23.81, 23.85, 23.51, 23.85, None, 9700.0, 229890.0, None, None, None], ['2013-11-28', 23.8, 23.8, 23.57, 23.73, None, 12871.0, 304665.0, None, None, None], ['2013-11-27', 23.73, 23.75, 23.44, 23.75, None, 9648.0, 227962.0, None, None, None], ['2013-11-26', 23.46, 23.74, 23.2, 23.74, None, 43857.0, 1031493.0, None, None, None], ['2013-11-25', 23.77, 23.83, 23.5, 23.54, None, 27105.0, 640215.0, None, None, None], ['2013-11-22', 23.7, 23.75, 23.45, 23.64, None, 32047.0, 756824.0, None, None, None], ['2013-11-21', 23.55, 23.58, 23.38, 23.57, None, 13202.0, 310271.0, None, None, None], ['2013-11-20', 23.91, 23.91, 23.35, 23.58, None, 53669.0, 1269613.0, None, None, None], ['2013-11-19', 23.8, 23.92, 23.8, 23.92, None, 24112.0, 574958.0, None, None, None], ['2013-11-18', 24.09, 24.13, 23.69, 23.82, None, 35044.0, 836399.0, None, None, None], ['2013-11-15', 23.19, 23.89, 23.12, 23.85, None, 45647.0, 1079835.0, None, None, None], ['2013-11-14', 23.05, 23.17, 22.95, 23.14, None, 41297.0, 952217.0, None, None, None], ['2013-11-13', 22.8, 22.91, 22.35, 22.82, None, 36761.0, 834051.0, None, None, None], ['2013-11-12', 23.44, 23.44, 22.5, 22.81, None, 80758.0, 1851612.0, None, None, None], ['2013-11-11', 23.25, 23.25, 22.96, 23.21, None, 52699.0, 1216055.0, None, None, None], ['2013-11-08', 23.02, 23.17, 22.74, 23.15, None, 23713.0, 544149.0, None, None, None], ['2013-11-07', 23.0, 23.11, 22.55, 23.11, None, 31986.0, 730879.0, None, None, None], ['2013-11-06', 23.15, 23.22, 22.85, 23.0, None, 33989.0, 781081.0, None, None, None], ['2013-11-05', 23.57, 23.6, 22.92, 23.2, None, 42734.0, 993099.0, None, None, None], ['2013-11-04', 23.35, 23.55, 23.35, 23.49, None, 82837.0, 1944860.0, None, None, None], ['2013-11-01', 23.3, 23.36, 23.2, 23.28, None, 20851.0, 485279.0, None, None, None]], 'collapse': None, 'order': None, 'database_id': 6129}}\n"
     ]
    }
   ],
   "source": [
    "# Inspect the JSON structure of the object you created, and take note of how nested it is,\n",
    "# as well as the overall structure\n",
    "print(r.json())"
   ]
  },
  {
   "cell_type": "markdown",
   "metadata": {},
   "source": [
    "These are your tasks for this mini project:\n",
    "\n",
    "1. Collect data from the Franfurt Stock Exchange, for the ticker AFX_X, for the whole year 2017 (keep in mind that the date format is YYYY-MM-DD).\n",
    "2. Convert the returned JSON object into a Python dictionary.\n",
    "3. Calculate what the highest and lowest opening prices were for the stock in this period.\n",
    "4. What was the largest change in any one day (based on High and Low price)?\n",
    "5. What was the largest change between any two days (based on Closing Price)?\n",
    "6. What was the average daily trading volume during this year?\n",
    "7. (Optional) What was the median trading volume during this year. (Note: you may need to implement your own function for calculating the median.)"
   ]
  },
  {
   "cell_type": "code",
   "execution_count": 26,
   "metadata": {},
   "outputs": [
    {
     "name": "stdout",
     "output_type": "stream",
     "text": [
      "The maximum opening value in 2017 was: $53.11\n",
      "The minimum opening value in 2017 was: $34.0\n",
      "The largest change in any one day was $2.81\n",
      "The largest change between any two days was $2.56\n",
      "The average daily trading volume in 2017 was: $89124.34\n",
      "The median trading volume during this year was: $76286.0\n",
      "76286.0\n"
     ]
    }
   ],
   "source": [
    "import numpy as np\n",
    "from statistics import median\n",
    "#Collect data from the Franfurt Stock Exchange, for the ticker AFX_X, for the whole year 2017\n",
    "r_afx = requests.get('https://www.quandl.com/api/v3/datasets/FSE/AFX_X.json?api_key=zisUTp7XnzvS8_4ENyth&start_date=2017-01-01&end_date=2017-12-31')\n",
    "\n",
    "#Create a dictionary for the JSON object\n",
    "json_data = r_afx.json()['dataset']['data']\n",
    "#Check\n",
    "#print(json_data)\n",
    "\n",
    "#Calculate what the highest and lowest opening prices were for the stock in this period.\n",
    "opens = []\n",
    "for item in json_data:\n",
    "    if item[1] != None:\n",
    "        opens.append(item[1])\n",
    "#check\n",
    "#print(opens)\n",
    "print(\"The maximum opening value in 2017 was: $\"+ str(max(opens)))\n",
    "print(\"The minimum opening value in 2017 was: $\"+ str(min(opens)))\n",
    "\n",
    "#What was the largest change in any one day (based on High and Low price)?\n",
    "changes = []\n",
    "for item in json_data:\n",
    "    if (item[2] != None) & (item[3] != None):\n",
    "        changes.append(item[2]-item[3])\n",
    "#check\n",
    "print(\"The largest change in any one day was $\"+ str(round(max(changes),2)))\n",
    "\n",
    "#What was the largest change between any two days (based on Closing Price)?\n",
    "changes = []\n",
    "counter = 0\n",
    "for item in json_data:\n",
    "    if counter == 0:\n",
    "        counter += 1\n",
    "        continue\n",
    "    else:\n",
    "        changes.append(np.abs(json_data[counter][4]-json_data[counter-1][4]))\n",
    "        counter += 1\n",
    "print(\"The largest change between any two days was $\"+str(round(max(changes),2)))\n",
    "\n",
    "#What was the average daily trading volume during this year?\n",
    "volumes = []\n",
    "for item in json_data:\n",
    "    volumes.append(item[6])\n",
    "print(\"The average daily trading volume in 2017 was: $\"+str(round(np.average(volumes),2)))\n",
    "\n",
    "#What was the median trading volume during this year?\n",
    "def my_median(input):\n",
    "    mid = len(input) // 2\n",
    "    input.sort()\n",
    "    if len(input) % 2:\n",
    "        return input[mid]\n",
    "    return (input[mid - 1] + input[mid]) / 2.0\n",
    "\n",
    "print(\"The median trading volume during this year was: $\" + str(my_median(volumes)))\n",
    "#check using statistics\n",
    "print(median(volumes))"
   ]
  },
  {
   "cell_type": "code",
   "execution_count": null,
   "metadata": {},
   "outputs": [],
   "source": []
  }
 ],
 "metadata": {
  "kernelspec": {
   "display_name": "Python 3",
   "language": "python",
   "name": "python3"
  },
  "language_info": {
   "codemirror_mode": {
    "name": "ipython",
    "version": 3
   },
   "file_extension": ".py",
   "mimetype": "text/x-python",
   "name": "python",
   "nbconvert_exporter": "python",
   "pygments_lexer": "ipython3",
   "version": "3.7.3"
  }
 },
 "nbformat": 4,
 "nbformat_minor": 2
}
